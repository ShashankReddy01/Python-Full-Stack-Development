{
  "nbformat": 4,
  "nbformat_minor": 0,
  "metadata": {
    "colab": {
      "name": "List1.ipynb",
      "provenance": [],
      "authorship_tag": "ABX9TyPbvKYOyx7myZOL6KPqCSjl",
      "include_colab_link": true
    },
    "kernelspec": {
      "name": "python3",
      "display_name": "Python 3"
    },
    "language_info": {
      "name": "python"
    }
  },
  "cells": [
    {
      "cell_type": "markdown",
      "metadata": {
        "id": "view-in-github",
        "colab_type": "text"
      },
      "source": [
        "<a href=\"https://colab.research.google.com/github/ShashankReddy01/Python-Full-Stack-Development/blob/main/List1.ipynb\" target=\"_parent\"><img src=\"https://colab.research.google.com/assets/colab-badge.svg\" alt=\"Open In Colab\"/></a>"
      ]
    },
    {
      "cell_type": "code",
      "execution_count": 2,
      "metadata": {
        "colab": {
          "base_uri": "https://localhost:8080/"
        },
        "id": "ZdkWKrVCepuy",
        "outputId": "7906ff6b-59cf-47a0-9ff3-94645fecdf6a"
      },
      "outputs": [
        {
          "output_type": "stream",
          "name": "stdout",
          "text": [
            "('apple', 'banana', 'guava', 'strawberry')\n"
          ]
        }
      ],
      "source": [
        "list1 = (\"apple\",\"banana\",\"guava\",\"strawberry\")\n",
        "print(list1)"
      ]
    },
    {
      "cell_type": "code",
      "source": [
        "list2 = (\"apple\",\"banana\",\"guava\",\"apple\")\n",
        "print(list2)"
      ],
      "metadata": {
        "colab": {
          "base_uri": "https://localhost:8080/"
        },
        "id": "LVFkZ9yGl-qB",
        "outputId": "1337f619-6b54-4cb8-d18f-c378a31c83e0"
      },
      "execution_count": 3,
      "outputs": [
        {
          "output_type": "stream",
          "name": "stdout",
          "text": [
            "('apple', 'banana', 'guava', 'apple')\n"
          ]
        }
      ]
    },
    {
      "cell_type": "code",
      "source": [
        ""
      ],
      "metadata": {
        "id": "z2MN8le_mYCt"
      },
      "execution_count": null,
      "outputs": []
    },
    {
      "cell_type": "code",
      "source": [
        "list3 = [1,2,3]\n",
        "print(list3)"
      ],
      "metadata": {
        "colab": {
          "base_uri": "https://localhost:8080/"
        },
        "id": "YswQ1iHxmV9w",
        "outputId": "00061fa3-4090-4fb9-c983-f5c8a962a7b2"
      },
      "execution_count": 5,
      "outputs": [
        {
          "output_type": "stream",
          "name": "stdout",
          "text": [
            "[1, 2, 3]\n"
          ]
        }
      ]
    },
    {
      "cell_type": "code",
      "source": [
        "list4 = [1,\"hello\",3.4]\n",
        "print(list4)"
      ],
      "metadata": {
        "colab": {
          "base_uri": "https://localhost:8080/"
        },
        "id": "pi_pBq5inP3t",
        "outputId": "ed4ff05b-f243-444a-8e21-1cd5e5dd744b"
      },
      "execution_count": 8,
      "outputs": [
        {
          "output_type": "stream",
          "name": "stdout",
          "text": [
            "[1, 'hello', 3.4]\n"
          ]
        }
      ]
    },
    {
      "cell_type": "code",
      "source": [
        "Nestlist = ['mouse',[8,4,6],['c']]\n",
        "print(Nestlist)"
      ],
      "metadata": {
        "colab": {
          "base_uri": "https://localhost:8080/"
        },
        "id": "6a0N0CUBmoUm",
        "outputId": "ccde98b9-7cdf-4097-f22a-1d7d275718eb"
      },
      "execution_count": 7,
      "outputs": [
        {
          "output_type": "stream",
          "name": "stdout",
          "text": [
            "['mouse', [8, 4, 6], ['c']]\n"
          ]
        }
      ]
    },
    {
      "cell_type": "code",
      "source": [
        "print(list3[2])"
      ],
      "metadata": {
        "colab": {
          "base_uri": "https://localhost:8080/"
        },
        "id": "0jqxeHDMnbLI",
        "outputId": "77ecfcc8-24ed-4f2f-ab0b-82b0b6a93251"
      },
      "execution_count": 9,
      "outputs": [
        {
          "output_type": "stream",
          "name": "stdout",
          "text": [
            "3\n"
          ]
        }
      ]
    },
    {
      "cell_type": "code",
      "source": [
        "print(Nestlist[1][1])"
      ],
      "metadata": {
        "colab": {
          "base_uri": "https://localhost:8080/"
        },
        "id": "1_gg52Gvnk1L",
        "outputId": "e4479060-9045-483a-acf6-3f161132f507"
      },
      "execution_count": 10,
      "outputs": [
        {
          "output_type": "stream",
          "name": "stdout",
          "text": [
            "4\n"
          ]
        }
      ]
    }
  ]
}