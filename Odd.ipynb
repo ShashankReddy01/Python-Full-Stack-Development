{
  "nbformat": 4,
  "nbformat_minor": 0,
  "metadata": {
    "colab": {
      "name": "Odd.ipynb",
      "provenance": [],
      "authorship_tag": "ABX9TyMXWqFN8VYheCVvDxhmZV4J",
      "include_colab_link": true
    },
    "kernelspec": {
      "name": "python3",
      "display_name": "Python 3"
    },
    "language_info": {
      "name": "python"
    }
  },
  "cells": [
    {
      "cell_type": "markdown",
      "metadata": {
        "id": "view-in-github",
        "colab_type": "text"
      },
      "source": [
        "<a href=\"https://colab.research.google.com/github/ShashankReddy01/Python-Full-Stack-Development/blob/main/Odd.ipynb\" target=\"_parent\"><img src=\"https://colab.research.google.com/assets/colab-badge.svg\" alt=\"Open In Colab\"/></a>"
      ]
    },
    {
      "cell_type": "code",
      "execution_count": null,
      "metadata": {
        "id": "l_gLfU0s5_Dt"
      },
      "outputs": [],
      "source": [
        "odd=[2,4,6,8]\n",
        "odd[1]=0\n",
        "print(odd)\n",
        "odd[1:4]=[3,5,7]\n",
        "print(odd)\n",
        "odd=[1,3,5]\n",
        "odd.append(7)\n",
        "print(odd)\n",
        "odd.extend([9,11,13])\n",
        "odd=[1,3,5]\n",
        "print(odd+[9,7,5])\n",
        "print([\"re\"]*3)\n",
        "odd=[1,9]\n",
        "odd.insert(1,3)\n",
        "print(odd)\n",
        "odd[2:2]=[5,7]\n",
        "print(odd)\n",
        "mylist=['p','r','o','b','l','e','m']\n",
        "del mylist[2]\n",
        "print(mylist)\n",
        "del mylist[1:5]\n",
        "print(mylist)"
      ]
    }
  ]
}